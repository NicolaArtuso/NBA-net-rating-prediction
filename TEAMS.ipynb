{
  "nbformat": 4,
  "nbformat_minor": 0,
  "metadata": {
    "colab": {
      "provenance": []
    },
    "kernelspec": {
      "name": "python3",
      "display_name": "Python 3"
    },
    "language_info": {
      "name": "python"
    }
  },
  "cells": [
    {
      "cell_type": "code",
      "execution_count": null,
      "metadata": {
        "id": "2CyPHWFZH2aq"
      },
      "outputs": [],
      "source": [
        "import pandas as pd\n",
        "import requests\n",
        "pd.set_option('display.max_columns',None)\n",
        "import time\n",
        "import numpy as np\n"
      ]
    },
    {
      "cell_type": "code",
      "source": [
        "#Codice per poter avere i dati\n",
        "header  = {\n",
        "    'Connection': 'keep-alive',\n",
        "    'Accept': 'application/json, text/plain, */*',\n",
        "    'x-nba-stats-token': 'true',\n",
        "    'User-Agent': 'Mozilla/5.0 (Macintosh; Intel Mac OS X 10_14_6) AppleWebKit/537.36 (KHTML, like Gecko) Chrome/79.0.3945.130 Safari/537.36',\n",
        "    'x-nba-stats-origin': 'stats',\n",
        "    'Sec-Fetch-Site': 'same-origin',\n",
        "    'Sec-Fetch-Mode': 'cors',\n",
        "    'Referer': 'https://stats.nba.com/',\n",
        "    'Accept-Encoding': 'gzip, deflate, br',\n",
        "    'Accept-Language': 'en-US,en;q=0.9',\n",
        "}"
      ],
      "metadata": {
        "id": "d-8vEgsyRoGh"
      },
      "execution_count": null,
      "outputs": []
    },
    {
      "cell_type": "code",
      "source": [
        "seasons = ['2015-16','2016-17','2017-18','2018-19','2019-20','2020-21','2021-22','2022-23']"
      ],
      "metadata": {
        "id": "acpohlWndGxX"
      },
      "execution_count": null,
      "outputs": []
    },
    {
      "cell_type": "markdown",
      "source": [
        "TRADITIONAL PER100\n"
      ],
      "metadata": {
        "id": "g1DUf3utPgOH"
      }
    },
    {
      "cell_type": "code",
      "source": [
        "url = 'https://stats.nba.com/stats/leaguedashteamstats?Conference=&DateFrom=&DateTo=&Division=&GameScope=&GameSegment=&Height=&LastNGames=0&LeagueID=00&Location=&MeasureType=Base&Month=0&OpponentTeamID=0&Outcome=&PORound=0&PaceAdjust=N&PerMode=Per100Possessions&Period=0&PlayerExperience=&PlayerPosition=&PlusMinus=N&Rank=N&Season=2022-23&SeasonSegment=&SeasonType=Regular%20Season&ShotClockRange=&StarterBench=&TeamID=0&TwoWay=0&VsConference=&VsDivision='\n",
        "r = requests.get(url = url, headers = header).json()"
      ],
      "metadata": {
        "id": "4lRVQD2DPaKW"
      },
      "execution_count": null,
      "outputs": []
    },
    {
      "cell_type": "code",
      "source": [
        "table_headers = r['resultSets'][0]['headers']\n",
        "trad_df = pd.DataFrame(columns=table_headers + ['SEASON'])\n",
        "begin_loop = time.time()\n",
        "for s in seasons:\n",
        "  trad_api = 'https://stats.nba.com/stats/leaguedashteamstats?Conference=&DateFrom=&DateTo=&Division=&GameScope=&GameSegment=&Height=&LastNGames=0&LeagueID=00&Location=&MeasureType=Base&Month=0&OpponentTeamID=0&Outcome=&PORound=0&PaceAdjust=N&PerMode=Per100Possessions&Period=0&PlayerExperience=&PlayerPosition=&PlusMinus=N&Rank=N&Season='+s+'&SeasonSegment=&SeasonType=Regular%20Season&ShotClockRange=&StarterBench=&TeamID=0&TwoWay=0&VsConference=&VsDivision='\n",
        "  trad = requests.get(url = trad_api, headers = header).json()\n",
        "\n",
        "  temp_df1 = pd.DataFrame(trad['resultSets'][0]['rowSet'], columns = table_headers)\n",
        "  year = pd.DataFrame({'SEASON':[s for i in range(len(temp_df1))]})\n",
        "  year_trad = pd.concat([temp_df1, year], axis = 1)\n",
        "  trad_df = pd.concat([trad_df,year_trad],axis=0)\n",
        "\n",
        "  print(f'Finished scraping data for the {s} season')\n",
        "  lag = np.random.uniform(low=5,high=10)\n",
        "  print(f'...waiting {round(lag,1)} seconds')\n",
        "  time.sleep(lag)\n",
        "\n",
        "print(f'Process completed! Total runtime: {round((time.time()-begin_loop)/60,2)}')\n",
        "\n"
      ],
      "metadata": {
        "id": "hTu6qjRqQOFF"
      },
      "execution_count": null,
      "outputs": []
    },
    {
      "cell_type": "code",
      "source": [
        "trad_df.to_csv('nba_traditional_PER100_data.csv')"
      ],
      "metadata": {
        "id": "0a1ZR8-qRpRi"
      },
      "execution_count": null,
      "outputs": []
    },
    {
      "cell_type": "markdown",
      "source": [
        "SHOOTING EFFICIENCY"
      ],
      "metadata": {
        "id": "pCf6ne2ujpV4"
      }
    },
    {
      "cell_type": "code",
      "source": [
        "url = 'https://stats.nba.com/stats/leaguedashptstats?College=&Conference=&Country=&DateFrom=&DateTo=&Division=&DraftPick=&DraftYear=&GameScope=&Height=&LastNGames=0&LeagueID=00&Location=&Month=0&OpponentTeamID=0&Outcome=&PORound=0&PerMode=PerGame&PlayerExperience=&PlayerOrTeam=Team&PlayerPosition=&PtMeasureType=Efficiency&Season=2015-16&SeasonSegment=&SeasonType=Regular%20Season&StarterBench=&TeamID=0&VsConference=&VsDivision=&Weight='\n",
        "r = requests.get(url = url, headers = header).json()\n",
        "r['resultSets'][0]['rowSet']"
      ],
      "metadata": {
        "id": "Ik3Ek58fkwaN"
      },
      "execution_count": null,
      "outputs": []
    },
    {
      "cell_type": "code",
      "source": [
        "url = 'https://stats.nba.com/stats/leaguedashptstats?College=&Conference=&Country=&DateFrom=&DateTo=&Division=&DraftPick=&DraftYear=&GameScope=&Height=&LastNGames=0&LeagueID=00&Location=&Month=0&OpponentTeamID=0&Outcome=&PORound=0&PerMode=PerGame&PlayerExperience=&PlayerOrTeam=Team&PlayerPosition=&PtMeasureType=Efficiency&Season=2015-16&SeasonSegment=&SeasonType=Regular%20Season&StarterBench=&TeamID=0&VsConference=&VsDivision=&Weight='\n",
        "r = requests.get(url = url, headers = header).json()\n",
        "table_headers = r['resultSets'][0]['headers']\n",
        "eff_df = pd.DataFrame(columns=table_headers + ['SEASON'])\n",
        "\n",
        "begin_loop = time.time()\n",
        "for s in seasons:\n",
        "  eff_api = 'https://stats.nba.com/stats/leaguedashptstats?College=&Conference=&Country=&DateFrom=&DateTo=&Division=&DraftPick=&DraftYear=&GameScope=&Height=&LastNGames=0&LeagueID=00&Location=&Month=0&OpponentTeamID=0&Outcome=&PORound=0&PerMode=PerGame&PlayerExperience=&PlayerOrTeam=Team&PlayerPosition=&PtMeasureType=Efficiency&Season='+s+'&SeasonSegment=&SeasonType=Regular%20Season&StarterBench=&TeamID=0&VsConference=&VsDivision=&Weight='\n",
        "  re = requests.get(url = eff_api, headers = header).json()\n",
        "\n",
        "  temp_df1 = pd.DataFrame(re['resultSets'][0]['rowSet'], columns = table_headers)\n",
        "  year = pd.DataFrame({'SEASON':[s for i in range(len(temp_df1))]})\n",
        "  year_eff = pd.concat([temp_df1, year], axis = 1)\n",
        "  eff_df = pd.concat([eff_df,year_eff],axis=0)\n",
        "\n",
        "  print(f'Finished scraping data for the {s} season')\n",
        "  lag = np.random.uniform(low=5,high=10)\n",
        "  print(f'...waiting {round(lag,1)} seconds')\n",
        "  time.sleep(lag)\n",
        "\n",
        "print(f'Process completed! Total runtime: {round((time.time()-begin_loop)/60,2)}')\n",
        "\n",
        "eff_df"
      ],
      "metadata": {
        "id": "10OoCGRZi-yI"
      },
      "execution_count": null,
      "outputs": []
    },
    {
      "cell_type": "code",
      "source": [
        "eff_df.to_csv('nba_efficiency_data.csv')"
      ],
      "metadata": {
        "id": "5s5D41RPjGNM"
      },
      "execution_count": null,
      "outputs": []
    },
    {
      "cell_type": "markdown",
      "source": [
        "ADVANCED STATS"
      ],
      "metadata": {
        "id": "luSVWSI3vHBp"
      }
    },
    {
      "cell_type": "code",
      "source": [
        "test_a_url = 'https://stats.nba.com/stats/leaguedashteamstats?Conference=&DateFrom=&DateTo=&Division=&GameScope=&GameSegment=&Height=&LastNGames=0&LeagueID=00&Location=&MeasureType=Advanced&Month=0&OpponentTeamID=0&Outcome=&PORound=0&PaceAdjust=N&PerMode=PerGame&Period=0&PlayerExperience=&PlayerPosition=&PlusMinus=N&Rank=N&Season=2019-20&SeasonSegment=&SeasonType=Regular%20Season&ShotClockRange=&StarterBench=&TeamID=0&TwoWay=0&VsConference=&VsDivision='\n",
        "r = requests.get(url = test_a_url, headers = header).json()\n",
        "r['resultSets'][0]['headers']"
      ],
      "metadata": {
        "id": "OPsp3hreboLm"
      },
      "execution_count": null,
      "outputs": []
    },
    {
      "cell_type": "code",
      "source": [
        "advanced_list = ['TEAM_ID','TEAM_NAME','NET_RATING','AST_PCT','OREB_PCT','DREB_PCT','TM_TOV_PCT','PACE']\n",
        "advanced_df = pd.DataFrame(columns=advanced_list)\n",
        "\n",
        "test_a_url = 'https://stats.nba.com/stats/leaguedashteamstats?Conference=&DateFrom=&DateTo=&Division=&GameScope=&GameSegment=&Height=&LastNGames=0&LeagueID=00&Location=&MeasureType=Advanced&Month=0&OpponentTeamID=0&Outcome=&PORound=0&PaceAdjust=N&PerMode=PerGame&Period=0&PlayerExperience=&PlayerPosition=&PlusMinus=N&Rank=N&Season=2019-20&SeasonSegment=&SeasonType=Regular%20Season&ShotClockRange=&StarterBench=&TeamID=0&TwoWay=0&VsConference=&VsDivision='\n",
        "r = requests.get(url = test_a_url, headers = header).json()\n",
        "table_headers = r['resultSets'][0]['headers']\n",
        "\n",
        "begin_loop = time.time()\n",
        "for s in seasons:\n",
        "  advanced_api = 'https://stats.nba.com/stats/leaguedashteamstats?Conference=&DateFrom=&DateTo=&Division=&GameScope=&GameSegment=&Height=&LastNGames=0&LeagueID=00&Location=&MeasureType=Advanced&Month=0&OpponentTeamID=0&Outcome=&PORound=0&PaceAdjust=N&PerMode=PerGame&Period=0&PlayerExperience=&PlayerPosition=&PlusMinus=N&Rank=N&Season='+s+'&SeasonSegment=&SeasonType=Regular%20Season&ShotClockRange=&StarterBench=&TeamID=0&TwoWay=0&VsConference=&VsDivision='\n",
        "  ra = requests.get(url = advanced_api, headers = header).json()\n",
        "\n",
        "  temp_df1 = pd.DataFrame(ra['resultSets'][0]['rowSet'], columns = table_headers)\n",
        "  temp_advanced = temp_df1[advanced_list]\n",
        "  year = pd.DataFrame({'SEASON':[s for i in range(len(temp_advanced))]})\n",
        "  year_advanced = pd.concat([temp_advanced, year], axis = 1)\n",
        "  advanced_df = pd.concat([advanced_df,year_advanced],axis=0)\n",
        "\n",
        "  print(f'Finished scraping data for the {s} season')\n",
        "  lag = np.random.uniform(low=5,high=10)\n",
        "  print(f'...waiting {round(lag,1)} seconds')\n",
        "  time.sleep(lag)\n",
        "\n",
        "print(f'Process completed! Total runtime: {round((time.time()-begin_loop)/60,2)}')\n",
        "\n",
        "advanced_df\n",
        "advanced_df.to_csv('nba_advanced_data.csv')"
      ],
      "metadata": {
        "id": "FwMW15XClyxW"
      },
      "execution_count": null,
      "outputs": []
    },
    {
      "cell_type": "markdown",
      "source": [
        "PLAY TYPE"
      ],
      "metadata": {
        "id": "VpOY5R38ggEC"
      }
    },
    {
      "cell_type": "code",
      "source": [
        "\n",
        "test_url = 'https://stats.nba.com/stats/synergyplaytypes?LeagueID=00&PerMode=PerGame&PlayType=Isolation&PlayerOrTeam=T&SeasonType=Regular%20Season&SeasonYear=2021-22&TypeGrouping=offensive'\n",
        "r2 = requests.get(url = test_url, headers = header).json()\n",
        "r2['resultSets'][0]['headers']"
      ],
      "metadata": {
        "id": "yaU8s7NVb4rC"
      },
      "execution_count": null,
      "outputs": []
    },
    {
      "cell_type": "code",
      "source": [
        "play_list = ['Isolation','Transition','PRBallHandler','PRRollman','Postup','Spotup','Handoff','Cut','OffScreen','OffRebound','Misc']\n",
        "test_url = 'https://stats.nba.com/stats/synergyplaytypes?LeagueID=00&PerMode=PerGame&PlayType=Isolation&PlayerOrTeam=T&SeasonType=Regular%20Season&SeasonYear=2021-22&TypeGrouping=offensive'\n",
        "r2 = requests.get(url = test_url, headers = header).json()\n",
        "table_headers = r2['resultSets'][0]['headers']\n",
        "\n",
        "df_cols = ['SEASON',\"SEASON_ID\", \"TEAM_ID\", \"TEAM_ABBREVIATION\", \"TEAM_NAME\"]+play_list\n",
        "play_df = pd.DataFrame(columns=df_cols)\n",
        "\n",
        "begin_loop = time.time()\n",
        "\n",
        "for s in seasons:\n",
        "  season_url = 'https://stats.nba.com/stats/synergyplaytypes?LeagueID=00&PerMode=PerGame&PlayType=Isolation&PlayerOrTeam=T&SeasonType=Regular%20Season&SeasonYear='+s+'&TypeGrouping=offensive'\n",
        "  r1 = requests.get(url = season_url, headers = header).json()\n",
        "  temp_df_play1 = pd.DataFrame(r1['resultSets'][0]['rowSet'], columns = table_headers).sort_values(by='TEAM_NAME')\n",
        "  df_play_season = temp_df_play1[[\"SEASON_ID\", \"TEAM_ID\", \"TEAM_ABBREVIATION\", \"TEAM_NAME\"]]\n",
        "\n",
        "  for play in play_list:\n",
        "    api_url = 'https://stats.nba.com/stats/synergyplaytypes?LeagueID=00&PerMode=PerGame&PlayType='+play+'&PlayerOrTeam=T&SeasonType=Regular%20Season&SeasonYear='+s+'&TypeGrouping=offensive'\n",
        "    r = requests.get(url = api_url, headers = header).json()\n",
        "    temp_df_play = pd.DataFrame(r['resultSets'][0]['rowSet'], columns = table_headers)\n",
        "    column_rename_mapping = {\"POSS_PCT\": play}\n",
        "    temp_df_play.rename(columns=column_rename_mapping, inplace=True)\n",
        "    col_play = temp_df_play[[play,'TEAM_NAME']]\n",
        "    df_play_season = pd.merge(df_play_season, col_play)\n",
        "\n",
        "  year = pd.DataFrame({'SEASON':[s for i in range(len(temp_advanced))]})\n",
        "  df_play_season = pd.concat([year,df_play_season],axis = 1)\n",
        "  play_df = pd.concat([play_df,df_play_season],axis=0)\n",
        "  print(f'Finished scraping data for the {s} season')\n",
        "  lag = np.random.uniform(low=5,high=15)\n",
        "  print(f'...waiting {round(lag,1)} seconds')\n",
        "  time.sleep(lag)\n",
        "\n",
        "print(f'Process completed! Total runtime: {round((time.time()-begin_loop)/60,2)}')\n",
        "play_df.to_csv('nba_play_type_data.csv')\n",
        "\n",
        "\n",
        "\n"
      ],
      "metadata": {
        "id": "YoJwPPV2b_Uh"
      },
      "execution_count": null,
      "outputs": []
    },
    {
      "cell_type": "markdown",
      "source": [
        "PASSESS"
      ],
      "metadata": {
        "id": "g3FOtrzow7Ba"
      }
    },
    {
      "cell_type": "code",
      "source": [
        "pass_list = ['TEAM_ID','TEAM_ABBREVIATION','TEAM_NAME','PASSES_MADE']\n",
        "pass_df = pd.DataFrame(columns = pass_list)\n",
        "test_p_url = 'https://stats.nba.com/stats/leaguedashptstats?College=&Conference=&Country=&DateFrom=&DateTo=&Division=&DraftPick=&DraftYear=&GameScope=&Height=&LastNGames=0&LeagueID=00&Location=&Month=0&OpponentTeamID=0&Outcome=&PORound=0&PerMode=PerGame&PlayerExperience=&PlayerOrTeam=Team&PlayerPosition=&PtMeasureType=Passing&Season=2015-16&SeasonSegment=&SeasonType=Regular%20Season&StarterBench=&TeamID=0&VsConference=&VsDivision=&Weight='\n",
        "r = requests.get(url = test_p_url, headers = header).json()\n",
        "table_headers = r['resultSets'][0]['headers']\n",
        "\n",
        "begin_loop = time.time()\n",
        "for s in seasons:\n",
        "  pass_api = 'https://stats.nba.com/stats/leaguedashptstats?College=&Conference=&Country=&DateFrom=&DateTo=&Division=&DraftPick=&DraftYear=&GameScope=&Height=&LastNGames=0&LeagueID=00&Location=&Month=0&OpponentTeamID=0&Outcome=&PORound=0&PerMode=PerGame&PlayerExperience=&PlayerOrTeam=Team&PlayerPosition=&PtMeasureType=Passing&Season='+s+'&SeasonSegment=&SeasonType=Regular%20Season&StarterBench=&TeamID=0&VsConference=&VsDivision=&Weight='\n",
        "  rp = requests.get(url = pass_api, headers = header).json()\n",
        "\n",
        "  temp_df1 = pd.DataFrame(rp['resultSets'][0]['rowSet'], columns = table_headers)\n",
        "  temp_pass = temp_df1[pass_list]\n",
        "  year = pd.DataFrame({'SEASON':[s for i in range(len(temp_pass))]})\n",
        "  year_pass = pd.concat([temp_pass, year], axis = 1)\n",
        "  pass_df = pd.concat([pass_df,year_pass],axis=0)\n",
        "\n",
        "  print(f'Finished scraping data for the {s} season')\n",
        "  lag = np.random.uniform(low=5,high=10)\n",
        "  print(f'...waiting {round(lag,1)} seconds')\n",
        "  time.sleep(lag)\n",
        "\n",
        "print(f'Process completed! Total runtime: {round((time.time()-begin_loop)/60,2)}')\n",
        "\n",
        "pass_df\n",
        "pass_df.to_csv('nba_passes_data.csv')"
      ],
      "metadata": {
        "id": "OrP3puvnxzjt"
      },
      "execution_count": null,
      "outputs": []
    },
    {
      "cell_type": "markdown",
      "source": [
        "Opponent shooting"
      ],
      "metadata": {
        "id": "qiQ-WTipl0Lo"
      }
    },
    {
      "cell_type": "code",
      "source": [
        "oshot_url = 'https://stats.nba.com/stats/leaguedashteamshotlocations?Conference=&DateFrom=&DateTo=&DistanceRange=By%20Zone&Division=&GameScope=&GameSegment=&LastNGames=0&Location=&MeasureType=Opponent&Month=0&OpponentTeamID=0&Outcome=&PORound=0&PaceAdjust=N&PerMode=PerGame&Period=0&PlayerExperience=&PlayerPosition=&PlusMinus=N&Rank=N&Season=2022-23&SeasonSegment=&SeasonType=Playoffs&ShotClockRange=&StarterBench=&TeamID=0&VsConference=&VsDivision='\n",
        "r = requests.get(url = oshot_url, headers = header).json()\n",
        "table_headers = r['resultSets']['headers'][0]['columnNames']\n",
        "temp_headers = r['resultSets']['headers'][1]['columnNames']\n",
        "shot_list =  ['SEASON','TEAM_ID','TEAM_NAME']+table_headers\n",
        "oshot_df = pd.DataFrame(columns = shot_list)\n"
      ],
      "metadata": {
        "id": "VWi4a1SdnAbr"
      },
      "execution_count": null,
      "outputs": []
    },
    {
      "cell_type": "code",
      "source": [
        "temp_headers"
      ],
      "metadata": {
        "id": "8yYO5ppJnDNy"
      },
      "execution_count": null,
      "outputs": []
    },
    {
      "cell_type": "code",
      "source": [
        "oshot_url = 'https://stats.nba.com/stats/leaguedashteamshotlocations?Conference=&DateFrom=&DateTo=&DistanceRange=By%20Zone&Division=&GameScope=&GameSegment=&LastNGames=0&Location=&MeasureType=Opponent&Month=0&OpponentTeamID=0&Outcome=&PORound=0&PaceAdjust=N&PerMode=PerGame&Period=0&PlayerExperience=&PlayerPosition=&PlusMinus=N&Rank=N&Season=2022-23&SeasonSegment=&SeasonType=Regular%20Season&ShotClockRange=&StarterBench=&TeamID=0&VsConference=&VsDivision='\n",
        "r = requests.get(url = oshot_url, headers = header).json()\n",
        "table_headers = r['resultSets']['headers'][0]['columnNames']\n",
        "temp_headers = r['resultSets']['headers'][1]['columnNames']\n",
        "shot_list =  ['SEASON','TEAM_ID','TEAM_NAME']+table_headers\n",
        "oshot_df = pd.DataFrame(columns = shot_list)\n",
        "\n",
        "begin_loop = time.time()\n",
        "for s in seasons:\n",
        "  shot_api = 'https://stats.nba.com/stats/leaguedashteamshotlocations?Conference=&DateFrom=&DateTo=&DistanceRange=By%20Zone&Division=&GameScope=&GameSegment=&LastNGames=0&Location=&MeasureType=Opponent&Month=0&OpponentTeamID=0&Outcome=&PORound=0&PaceAdjust=N&PerMode=PerGame&Period=0&PlayerExperience=&PlayerPosition=&PlusMinus=N&Rank=N&Season='+s+'&SeasonSegment=&SeasonType=Regular%20Season&ShotClockRange=&StarterBench=&TeamID=0&VsConference=&VsDivision='\n",
        "  rs = requests.get(url = shot_api, headers = header).json()\n",
        "  temp_df1 = pd.DataFrame(rs['resultSets']['rowSet'], columns = temp_headers)\n",
        "  temp_shot = temp_df1[['TEAM_ID','TEAM_NAME','OPP_FGA']]\n",
        "  year = pd.DataFrame({'SEASON':[s for i in range(len(temp_shot))]})\n",
        "  year_shot = pd.concat([year,temp_shot],axis=1)\n",
        "  year_shot.columns = shot_list\n",
        "  oshot_df = pd.concat([oshot_df,year_shot],axis=0)\n",
        "\n",
        "  print(f'Finished scraping data for the {s} season')\n",
        "  lag = np.random.uniform(low=5,high=10)\n",
        "  print(f'...waiting {round(lag,1)} seconds')\n",
        "  time.sleep(lag)\n",
        "\n",
        "print(f'Process completed! Total runtime: {round((time.time()-begin_loop)/60,2)}')\n",
        "\n",
        "oshot_df.to_csv('nba_oppshot_data.csv')"
      ],
      "metadata": {
        "id": "M8ZzYqEYlSqn"
      },
      "execution_count": null,
      "outputs": []
    },
    {
      "cell_type": "markdown",
      "source": [
        "SHOOT\n"
      ],
      "metadata": {
        "id": "iFyUkx-sm5W9"
      }
    },
    {
      "cell_type": "code",
      "source": [
        "shot_url = 'https://stats.nba.com/stats/leaguedashteamshotlocations?Conference=&DateFrom=&DateTo=&DistanceRange=By%20Zone&Division=&GameScope=&GameSegment=&LastNGames=0&Location=&MeasureType=Base&Month=0&OpponentTeamID=0&Outcome=&PORound=0&PaceAdjust=N&PerMode=PerGame&Period=0&PlayerExperience=&PlayerPosition=&PlusMinus=N&Rank=N&Season=2022-23&SeasonSegment=&SeasonType=Regular%20Season&ShotClockRange=&StarterBench=&TeamID=0&VsConference=&VsDivision='\n",
        "r = requests.get(url = shot_url, headers = header).json()\n",
        "r['resultSets']['headers'][0]['columnNames']"
      ],
      "metadata": {
        "colab": {
          "base_uri": "https://localhost:8080/"
        },
        "id": "aFGuIBB5OzRV",
        "outputId": "4fa47c79-3d1e-4308-d317-761c8996cf00"
      },
      "execution_count": null,
      "outputs": [
        {
          "output_type": "execute_result",
          "data": {
            "text/plain": [
              "['Restricted Area',\n",
              " 'In The Paint (Non-RA)',\n",
              " 'Mid-Range',\n",
              " 'Left Corner 3',\n",
              " 'Right Corner 3',\n",
              " 'Above the Break 3',\n",
              " 'Backcourt',\n",
              " 'Corner 3']"
            ]
          },
          "metadata": {},
          "execution_count": 3
        }
      ]
    },
    {
      "cell_type": "code",
      "source": [
        "shot_url = 'https://stats.nba.com/stats/leaguedashteamshotlocations?Conference=&DateFrom=&DateTo=&DistanceRange=By%20Zone&Division=&GameScope=&GameSegment=&LastNGames=0&Location=&MeasureType=Base&Month=0&OpponentTeamID=0&Outcome=&PORound=0&PaceAdjust=N&PerMode=PerGame&Period=0&PlayerExperience=&PlayerPosition=&PlusMinus=N&Rank=N&Season=2022-23&SeasonSegment=&SeasonType=Regular%20Season&ShotClockRange=&StarterBench=&TeamID=0&VsConference=&VsDivision='\n",
        "r = requests.get(url = shot_url, headers = header).json()\n",
        "table_headers = r['resultSets']['headers'][0]['columnNames']\n",
        "temp_headers = r['resultSets']['headers'][1]['columnNames']\n",
        "shot_list =  ['SEASON','TEAM_ID','TEAM_NAME']+table_headers\n",
        "shot_df = pd.DataFrame(columns = shot_list)\n",
        "\n",
        "begin_loop = time.time()\n",
        "for s in seasons:\n",
        "  shot_api = 'https://stats.nba.com/stats/leaguedashteamshotlocations?Conference=&DateFrom=&DateTo=&DistanceRange=By%20Zone&Division=&GameScope=&GameSegment=&LastNGames=0&Location=&MeasureType=Base&Month=0&OpponentTeamID=0&Outcome=&PORound=0&PaceAdjust=N&PerMode=PerGame&Period=0&PlayerExperience=&PlayerPosition=&PlusMinus=N&Rank=N&Season='+s+'&SeasonSegment=&SeasonType=Regular%20Season&ShotClockRange=&StarterBench=&TeamID=0&VsConference=&VsDivision='\n",
        "  rs = requests.get(url = shot_api, headers = header).json()\n",
        "  temp_df1 = pd.DataFrame(rs['resultSets']['rowSet'], columns = temp_headers)\n",
        "  temp_shot = temp_df1[['TEAM_ID','TEAM_NAME','FGA']]\n",
        "  year = pd.DataFrame({'SEASON':[s for i in range(len(temp_shot))]})\n",
        "  year_shot = pd.concat([year,temp_shot],axis=1)\n",
        "  year_shot.columns = shot_list\n",
        "  shot_df = pd.concat([shot_df,year_shot],axis=0)\n",
        "\n",
        "  print(f'Finished scraping data for the {s} season')\n",
        "  lag = np.random.uniform(low=5,high=10)\n",
        "  print(f'...waiting {round(lag,1)} seconds')\n",
        "  time.sleep(lag)\n",
        "\n",
        "print(f'Process completed! Total runtime: {round((time.time()-begin_loop)/60,2)}')\n",
        "shot_df\n",
        "shot_df.to_csv('nba_shot_data.csv')"
      ],
      "metadata": {
        "id": "yr965dDcm3vj"
      },
      "execution_count": null,
      "outputs": []
    },
    {
      "cell_type": "code",
      "source": [
        "shot_df.to_csv('nba_shot_data.csv')"
      ],
      "metadata": {
        "id": "xYrXWvk2oXs6"
      },
      "execution_count": null,
      "outputs": []
    },
    {
      "cell_type": "markdown",
      "source": [
        "STL and BLK"
      ],
      "metadata": {
        "id": "PefKZ1FrwrEw"
      }
    },
    {
      "cell_type": "code",
      "source": [
        "sb_list = ['TEAM_ID','TEAM_NAME','STL','BLK']\n",
        "sb_df = pd.DataFrame(columns = sb_list)\n",
        "sb_url = 'https://stats.nba.com/stats/leaguedashteamstats?Conference=&DateFrom=&DateTo=&Division=&GameScope=&GameSegment=&Height=&LastNGames=0&LeagueID=00&Location=&MeasureType=Base&Month=0&OpponentTeamID=0&Outcome=&PORound=0&PaceAdjust=N&PerMode=Per100Possessions&Period=0&PlayerExperience=&PlayerPosition=&PlusMinus=N&Rank=N&Season=2015-16&SeasonSegment=&SeasonType=Regular%20Season&ShotClockRange=&StarterBench=&TeamID=0&TwoWay=0&VsConference=&VsDivision='\n",
        "r = requests.get(url = sb_url, headers = header).json()\n",
        "\n",
        "table_headers = r['resultSets'][0]['headers']\n",
        "\n",
        "begin_loop = time.time()\n",
        "for s in seasons:\n",
        "  sb_api = 'https://stats.nba.com/stats/leaguedashteamstats?Conference=&DateFrom=&DateTo=&Division=&GameScope=&GameSegment=&Height=&LastNGames=0&LeagueID=00&Location=&MeasureType=Base&Month=0&OpponentTeamID=0&Outcome=&PORound=0&PaceAdjust=N&PerMode=Per100Possessions&Period=0&PlayerExperience=&PlayerPosition=&PlusMinus=N&Rank=N&Season='+s+'&SeasonSegment=&SeasonType=Regular%20Season&ShotClockRange=&StarterBench=&TeamID=0&TwoWay=0&VsConference=&VsDivision='\n",
        "  rsb = requests.get(url = sb_api, headers = header).json()\n",
        "\n",
        "  temp_df1 = pd.DataFrame(rsb['resultSets'][0]['rowSet'], columns = table_headers)\n",
        "  temp_sb = temp_df1[sb_list]\n",
        "  year = pd.DataFrame({'SEASON':[s for i in range(len(temp_sb))]})\n",
        "  year_sb = pd.concat([temp_sb, year], axis = 1)\n",
        "  sb_df = pd.concat([sb_df,year_sb],axis=0)\n",
        "\n",
        "  print(f'Finished scraping data for the {s} season')\n",
        "  lag = np.random.uniform(low=5,high=10)\n",
        "  print(f'...waiting {round(lag,1)} seconds')\n",
        "  time.sleep(lag)\n",
        "\n",
        "print(f'Process completed! Total runtime: {round((time.time()-begin_loop)/60,2)}')\n",
        "\n",
        "sb_df.to_csv('nba_stealBlock_data.csv')\n"
      ],
      "metadata": {
        "id": "6H9BoThMmEn5"
      },
      "execution_count": null,
      "outputs": []
    }
  ]
}